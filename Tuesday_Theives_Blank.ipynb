{
 "cells": [
  {
   "cell_type": "markdown",
   "metadata": {},
   "source": [
    "# Functions, Scoping, Data Collections 1 & List Comprehensions"
   ]
  },
  {
   "attachments": {},
   "cell_type": "markdown",
   "metadata": {},
   "source": [
    "## Tasks Today:\n",
    "\n",
    "1) String Manipulation <br>\n",
    " &nbsp;&nbsp;&nbsp;&nbsp; a) strip() <br>\n",
    " &nbsp;&nbsp;&nbsp;&nbsp; b) title() <br>\n",
    "1) Working With Lists <br>\n",
    " &nbsp;&nbsp;&nbsp;&nbsp; a) min() <br>\n",
    " &nbsp;&nbsp;&nbsp;&nbsp; b) max() <br>\n",
    " &nbsp;&nbsp;&nbsp;&nbsp; c) sum() <br>\n",
    " &nbsp;&nbsp;&nbsp;&nbsp; d) sort() <br>\n",
    " &nbsp;&nbsp;&nbsp;&nbsp; e) Copying a List <br>\n",
    " &nbsp;&nbsp;&nbsp;&nbsp; i) Checking an Empty List <br>\n",
    " &nbsp;&nbsp;&nbsp;&nbsp; j) Removing Instances with a Loop <br>\n",
    "1) List Comprehensions <br>\n",
    "2) Tuples <br>\n",
    " &nbsp;&nbsp;&nbsp;&nbsp; a) sorted() <br>\n",
    "1) Functions <br>\n",
    " &nbsp;&nbsp;&nbsp;&nbsp; a) User-Defined vs. Built-In Functions <br>\n",
    " &nbsp;&nbsp;&nbsp;&nbsp; b) Accepting Parameters <br>\n",
    " &nbsp;&nbsp;&nbsp;&nbsp; c) Default Parameters <br>\n",
    " &nbsp;&nbsp;&nbsp;&nbsp; d) Making an Argument Optional <br>\n",
    " &nbsp;&nbsp;&nbsp;&nbsp; e) Keyword Arguments <br>\n",
    " &nbsp;&nbsp;&nbsp;&nbsp; f) Returning Values <br>\n",
    " &nbsp;&nbsp;&nbsp;&nbsp; g) *args & **kwargs<br>\n",
    " &nbsp;&nbsp;&nbsp;&nbsp; h) Docstring <br>\n",
    " &nbsp;&nbsp;&nbsp;&nbsp; i) Using a User Function in a Loop <br>\n",
    "1) Scope"
   ]
  },
  {
   "cell_type": "markdown",
   "metadata": {},
   "source": [
    "### String Manipulation"
   ]
  },
  {
   "attachments": {},
   "cell_type": "markdown",
   "metadata": {},
   "source": [
    "##### .lstrip() - Remove spaces on the left side of the string"
   ]
  },
  {
   "cell_type": "code",
   "execution_count": 2,
   "metadata": {},
   "outputs": [
    {
     "name": "stdout",
     "output_type": "stream",
     "text": [
      "             this test\n",
      "this test\n",
      "             this test\n"
     ]
    }
   ],
   "source": [
    "# string.lstrip()\n",
    "# can pass argument to specify what characters to strip \n",
    "txt = '             this test'\n",
    "\n",
    "print(txt)\n",
    "new_txt = txt.lstrip()\n",
    "print(txt)"
   ]
  },
  {
   "attachments": {},
   "cell_type": "markdown",
   "metadata": {},
   "source": [
    "##### .rstrip() - Remove spaces on the right side of the string"
   ]
  },
  {
   "cell_type": "code",
   "execution_count": 4,
   "metadata": {},
   "outputs": [
    {
     "name": "stdout",
     "output_type": "stream",
     "text": [
      "txt        /\n",
      "txt\n"
     ]
    }
   ],
   "source": [
    "# string.rstrip()\n",
    "txt = 'txt        /'\n",
    "print(txt)\n",
    "\n",
    "new_txt = txt.rstrip(' /')\n",
    "print(new_txt)"
   ]
  },
  {
   "attachments": {},
   "cell_type": "markdown",
   "metadata": {},
   "source": [
    "##### .strip() - Remove spaces at the beginning and at the end of the string"
   ]
  },
  {
   "cell_type": "code",
   "execution_count": 5,
   "metadata": {},
   "outputs": [
    {
     "name": "stdout",
     "output_type": "stream",
     "text": [
      "            txt            /\n",
      "txt\n"
     ]
    }
   ],
   "source": [
    "# string.strip()\n",
    "txt = '            txt            /'\n",
    "\n",
    "print(txt)\n",
    "\n",
    "new_txt = txt.strip(' /')\n",
    "print(new_txt)"
   ]
  },
  {
   "attachments": {},
   "cell_type": "markdown",
   "metadata": {},
   "source": [
    "##### .title() - returns a string where the first character in every word is upper case"
   ]
  },
  {
   "cell_type": "code",
   "execution_count": 7,
   "metadata": {},
   "outputs": [
    {
     "name": "stdout",
     "output_type": "stream",
     "text": [
      "this wont be lower case for long\n",
      "This Wont Be Lower Case For Long\n"
     ]
    }
   ],
   "source": [
    "# string.title()\n",
    "txt = 'this wont be lower case for long'\n",
    "print(txt)\n",
    "\n",
    "new_txt = txt.title()\n",
    "\n",
    "print(new_txt)"
   ]
  },
  {
   "cell_type": "markdown",
   "metadata": {},
   "source": [
    "### String Exercise <br>\n",
    "<p>Strip all white space and capitalize every name in the list given</p>"
   ]
  },
  {
   "cell_type": "code",
   "execution_count": 13,
   "metadata": {},
   "outputs": [
    {
     "name": "stdout",
     "output_type": "stream",
     "text": [
      "['Connor', 'Max', 'Evan', 'Jordan']\n"
     ]
    }
   ],
   "source": [
    "names = ['    coNNor', 'max', ' EVan ', 'JORDAN']\n",
    "# HINT: You will need to use a for loop for iteration\n",
    "new_names = []\n",
    "for name in names:\n",
    "    new_name = name.strip().title()\n",
    "    new_names.append(new_name)\n",
    "print(new_names)\n",
    "\n"
   ]
  },
  {
   "cell_type": "markdown",
   "metadata": {},
   "source": [
    "### Working With Lists"
   ]
  },
  {
   "attachments": {},
   "cell_type": "markdown",
   "metadata": {},
   "source": [
    "##### min() - returns the item with the lowest value, or the item with the lowest value in an iterable."
   ]
  },
  {
   "cell_type": "code",
   "execution_count": 23,
   "metadata": {},
   "outputs": [
    {
     "name": "stdout",
     "output_type": "stream",
     "text": [
      "3\n"
     ]
    }
   ],
   "source": [
    "# min(list)\n",
    "\n",
    "nums = [3, 2314, 2194, 3241, 321, 890, 53421, 9780]\n",
    "\n",
    "lowest = min(nums)\n",
    "\n",
    "print(lowest)"
   ]
  },
  {
   "attachments": {},
   "cell_type": "markdown",
   "metadata": {},
   "source": [
    "##### max() - returns the item with the highest value, or the item with the highest value in an iterable."
   ]
  },
  {
   "cell_type": "code",
   "execution_count": 24,
   "metadata": {},
   "outputs": [
    {
     "name": "stdout",
     "output_type": "stream",
     "text": [
      "53421\n"
     ]
    }
   ],
   "source": [
    "# max(list)\n",
    "\n",
    "my_max = max(nums)\n",
    "\n",
    "print(my_max)\n"
   ]
  },
  {
   "attachments": {},
   "cell_type": "markdown",
   "metadata": {},
   "source": [
    "##### sum() - returns a number, the sum of all items in an iterable."
   ]
  },
  {
   "cell_type": "code",
   "execution_count": 26,
   "metadata": {},
   "outputs": [
    {
     "name": "stdout",
     "output_type": "stream",
     "text": [
      "72164\n"
     ]
    }
   ],
   "source": [
    "# sum(list)\n",
    "\n",
    "total = sum(nums)\n",
    "\n",
    "print(total)"
   ]
  },
  {
   "attachments": {},
   "cell_type": "markdown",
   "metadata": {},
   "source": [
    "##### sorted() - returns a sorted list of the specified iterable object."
   ]
  },
  {
   "cell_type": "code",
   "execution_count": 124,
   "metadata": {},
   "outputs": [
    {
     "name": "stdout",
     "output_type": "stream",
     "text": [
      "[3, 321, 890, 2194, 2314, 3241, 9780, 53421]\n"
     ]
    }
   ],
   "source": [
    "# sorted(list)\n",
    "# sorted does not effect the original list, it returns a copy\n",
    "# can pass argument to reverse sorted order\n",
    "\n",
    "sorted_nums = sorted(nums)\n",
    "\n",
    "print(sorted_nums)\n",
    "\n",
    "\n"
   ]
  },
  {
   "cell_type": "markdown",
   "metadata": {},
   "source": [
    "##### .sort() <br>\n",
    "<p>Difference between sort and sorted, is that sorted doesn't change original list it returns a copy, while .sort changes the original list</p>"
   ]
  },
  {
   "cell_type": "code",
   "execution_count": 30,
   "metadata": {},
   "outputs": [
    {
     "name": "stdout",
     "output_type": "stream",
     "text": [
      "[1234, 342567, 364578, 5476890]\n"
     ]
    }
   ],
   "source": [
    "# list.sort()\n",
    "# use sorted when you don't want to alter original list, use .sort() when you want to alter original list\n",
    "\n",
    "new_nums = [342567, 5476890, 364578, 1234]\n",
    "\n",
    "new_nums.sort()\n",
    "\n",
    "print(new_nums)"
   ]
  },
  {
   "cell_type": "markdown",
   "metadata": {},
   "source": [
    "##### Copying a List"
   ]
  },
  {
   "cell_type": "code",
   "execution_count": 33,
   "metadata": {},
   "outputs": [
    {
     "name": "stdout",
     "output_type": "stream",
     "text": [
      "['Caden', 'Kasey', 'William', 'Tristyn']\n",
      "['Caden', 'Kasey', 'William']\n",
      "['Caden', 'Kasey', 'William', 'Tristyn']\n",
      "['Caden', 'Kasey', 'William', 'Tristyn']\n"
     ]
    }
   ],
   "source": [
    "# [:] copies a list, doesn't alter original\n",
    "# .copy() method\n",
    "\n",
    "students = ['Caden', 'Kasey', 'William', 'Tristyn']\n",
    "\n",
    "slice_stu = students[:]\n",
    "print(slice_stu)\n",
    "slice_stu.pop()\n",
    "print(slice_stu)\n",
    "print(students)\n",
    "\n",
    "method_stu = students.copy()\n",
    "print(method_stu)\n",
    "\n",
    "\n",
    "\n"
   ]
  },
  {
   "cell_type": "markdown",
   "metadata": {},
   "source": [
    "##### Checking an Empty List"
   ]
  },
  {
   "cell_type": "code",
   "execution_count": 37,
   "metadata": {},
   "outputs": [
    {
     "name": "stdout",
     "output_type": "stream",
     "text": [
      "No stuff here\n"
     ]
    }
   ],
   "source": [
    "# if list1: or if list1 == []:\n",
    "\n",
    "list1 = []\n",
    "list2= ['Sean B', 'Rhianna', 'Gabe']\n",
    "\n",
    "if list1:\n",
    "    print('I have stuff')\n",
    "else:\n",
    "    print('No stuff here')"
   ]
  },
  {
   "cell_type": "markdown",
   "metadata": {},
   "source": [
    "##### Removing Instances with a Loop"
   ]
  },
  {
   "cell_type": "code",
   "execution_count": 40,
   "metadata": {},
   "outputs": [
    {
     "name": "stdout",
     "output_type": "stream",
     "text": [
      "['Dennis', 'Cameron', 'SJ', 'Mason']\n"
     ]
    }
   ],
   "source": [
    "# while & for, remove\n",
    "students = ['Dennis', 'Cameron', 'SJ', 'Mason', 'Dylan']\n",
    "\n",
    "# while 'Dylan' in students:\n",
    "#     print('removing Dylan')\n",
    "#     students.remove('Dylan')\n",
    "# print(students)\n",
    "\n",
    "for student in students:\n",
    "    if student == 'Dylan':\n",
    "        students.remove('Dylan')\n",
    "print(students)"
   ]
  },
  {
   "cell_type": "markdown",
   "metadata": {},
   "source": [
    "### List Exercise <br>\n",
    "<p>Remove all duplicates<br><b>Extra: Create a program that will remove any duplicates from a given list</b></p>"
   ]
  },
  {
   "cell_type": "code",
   "execution_count": 47,
   "metadata": {},
   "outputs": [
    {
     "name": "stdout",
     "output_type": "stream",
     "text": [
      "['connor', 'bob', 'evan', 'max', 2, 3, 4, 'kevin']\n"
     ]
    }
   ],
   "source": [
    "names = ['connor', 'connor', 'bob', 'connor', 'evan', 'max', 'evan', 2, 2, 2, 3, 3, 4, 'bob', 'kevin']\n",
    "# Hint 1: You will need an append\n",
    "# Hint 2: Using an empty list will make life easier\n",
    "new_list = []\n",
    "for name in names:\n",
    "    if name not in new_list:\n",
    "        new_list.append(name)\n",
    "print(new_list)"
   ]
  },
  {
   "attachments": {},
   "cell_type": "markdown",
   "metadata": {},
   "source": [
    "#### List Comprehension - offers a shorter syntax when you want to create a new list based on the values of an existing list."
   ]
  },
  {
   "attachments": {},
   "cell_type": "markdown",
   "metadata": {},
   "source": [
    "#### Syntax - newlist = [expression for item in iterable if condition == True]\n",
    "##### The return value is a new list, leaving the old list unchanged.\n",
    "##### The condition is like a filter that only accepts the items that valuate to True."
   ]
  },
  {
   "cell_type": "code",
   "execution_count": 49,
   "metadata": {},
   "outputs": [
    {
     "name": "stdout",
     "output_type": "stream",
     "text": [
      "[0, 1, 2, 3, 4, 5, 6, 7, 8, 9]\n",
      "[0, 1, 2, 3, 4, 5, 6, 7, 8, 9]\n"
     ]
    }
   ],
   "source": [
    "# number list comprehension\n",
    "\n",
    "# With a regular for loop\n",
    "new_list = []\n",
    "\n",
    "for num in range(10):\n",
    "    new_list.append(num)\n",
    "\n",
    "print(new_list)\n",
    "\n",
    "# List Comprehension\n",
    "#var = [add this for each item in list]\n",
    "list_comp = [num for num in range(10)]\n",
    "\n",
    "print(list_comp)\n",
    "\n",
    "\n"
   ]
  },
  {
   "attachments": {},
   "cell_type": "markdown",
   "metadata": {},
   "source": [
    "There are a few benefits to using List comprehensions. The most obvious would be that we now have shorter code to work with instead of using 3+ lines of code in the for loop variant.\n",
    "\n",
    "More time-efficient and space-efficient than loops.\n",
    "\n",
    "Lastly, list comprehensions are considered the \"pythonic\" way to write code."
   ]
  },
  {
   "cell_type": "code",
   "execution_count": 51,
   "metadata": {},
   "outputs": [
    {
     "name": "stdout",
     "output_type": "stream",
     "text": [
      "[0, 1, 4, 9, 16, 25, 36, 49, 64, 81]\n",
      "[0, 1, 4, 9, 16, 25, 36, 49, 64, 81]\n"
     ]
    }
   ],
   "source": [
    "# square number list comprehension\n",
    "\n",
    "# With a reg for loop\n",
    "new_list = []\n",
    "\n",
    "for num in range(10):\n",
    "    new_list.append(num ** 2)\n",
    "\n",
    "print(new_list)\n",
    "# List Comprehension\n",
    "\n",
    "list_comp = [num**2 for num in range(10)]\n",
    "print(list_comp)\n"
   ]
  },
  {
   "cell_type": "code",
   "execution_count": 54,
   "metadata": {},
   "outputs": [
    {
     "name": "stdout",
     "output_type": "stream",
     "text": [
      "['D', 'C', 'S', 'M', 'D']\n",
      "['D', 'C', 'S', 'M', 'D']\n"
     ]
    }
   ],
   "source": [
    "# string list comprehension\n",
    "students = ['Dennis', 'Cameron', 'SJ', 'Mason', 'Dylan']\n",
    "\n",
    "# With a reg for loop\n",
    "first_char = []\n",
    "for name in students:\n",
    "    first_char.append(name[0])\n",
    "\n",
    "print(first_char)\n",
    "\n",
    "# List Comprehension\n",
    "\n",
    "list_comp = [name[0] for name in students]\n",
    "print(list_comp)"
   ]
  },
  {
   "attachments": {},
   "cell_type": "markdown",
   "metadata": {},
   "source": [
    "### Tuples - Collection which is ordered, unchangeable, and allow duplicate values."
   ]
  },
  {
   "cell_type": "code",
   "execution_count": 59,
   "metadata": {},
   "outputs": [
    {
     "name": "stdout",
     "output_type": "stream",
     "text": [
      "<class 'tuple'>\n",
      "<class 'tuple'>\n",
      "(123, 345, 678)\n",
      "123\n",
      "345\n",
      "678\n"
     ]
    }
   ],
   "source": [
    "codes = (123, 345, 678)\n",
    "codes2 = 342,4523,254\n",
    "\n",
    "print(type(codes))\n",
    "print(type(codes2))\n",
    "\n",
    "# for loop with tuple\n",
    "\n",
    "for num in codes:\n",
    "    print(num)\n"
   ]
  },
  {
   "cell_type": "markdown",
   "metadata": {},
   "source": [
    "##### sorted()"
   ]
  },
  {
   "cell_type": "code",
   "execution_count": 62,
   "metadata": {},
   "outputs": [
    {
     "name": "stdout",
     "output_type": "stream",
     "text": [
      "(21, 34, 54, 67)\n"
     ]
    }
   ],
   "source": [
    "codes = (54, 67, 21, 34)\n",
    "\n",
    "new_codes = sorted(codes)\n",
    "\n",
    "print(tuple(new_codes))"
   ]
  },
  {
   "cell_type": "markdown",
   "metadata": {},
   "source": [
    "##### Adding values to a Tuple"
   ]
  },
  {
   "cell_type": "code",
   "execution_count": 67,
   "metadata": {},
   "outputs": [
    {
     "name": "stdout",
     "output_type": "stream",
     "text": [
      "(54, 67, 21, 34, 1, 2, 3, 1, 1, 2, 3)\n"
     ]
    }
   ],
   "source": [
    "codes = codes + (1, 2, 3)\n",
    "\n",
    "print(codes)"
   ]
  },
  {
   "cell_type": "markdown",
   "metadata": {},
   "source": [
    "## Functions"
   ]
  },
  {
   "cell_type": "markdown",
   "metadata": {},
   "source": [
    "##### User-Defined vs. Built-In Functions"
   ]
  },
  {
   "cell_type": "code",
   "execution_count": 128,
   "metadata": {},
   "outputs": [
    {
     "name": "stdout",
     "output_type": "stream",
     "text": [
      "<function greetings at 0x10c962980>\n",
      "Hello Everyone\n"
     ]
    }
   ],
   "source": [
    "#User-defined\n",
    "def greetings():\n",
    "    return 'Hello Everyone'\n",
    "#Built-In print, showing the function in memory\n",
    "print(greetings)\n",
    "\n",
    "#Built-in print, calling the function\n",
    "print(greetings())"
   ]
  },
  {
   "cell_type": "markdown",
   "metadata": {},
   "source": [
    "##### Accepting Parameters"
   ]
  },
  {
   "cell_type": "code",
   "execution_count": 71,
   "metadata": {},
   "outputs": [
    {
     "name": "stdout",
     "output_type": "stream",
     "text": [
      "Full Name: Kevin Baker\n"
     ]
    }
   ],
   "source": [
    "# Order matters\n",
    "# A variable can be of any type of object\n",
    "def full_name(first_name, last_name):\n",
    "    return f'Full Name: {first_name} {last_name}'\n",
    "\n",
    "print(full_name('Kevin', 'Baker'))\n"
   ]
  },
  {
   "cell_type": "markdown",
   "metadata": {},
   "source": [
    "##### Default Parameters"
   ]
  },
  {
   "cell_type": "code",
   "execution_count": 73,
   "metadata": {},
   "outputs": [
    {
     "name": "stdout",
     "output_type": "stream",
     "text": [
      "The class Thieves is taught by Christian and Dylan\n"
     ]
    }
   ],
   "source": [
    "# default parameters need to be AFTER non-default parameters at all times\n",
    "\n",
    "def class_info(ins1, ins2, cohort='Thieves'):\n",
    "    return f'The class {cohort} is taught by {ins1} and {ins2}'\n",
    "\n",
    "print(class_info('Christian', 'Dylan'))"
   ]
  },
  {
   "cell_type": "markdown",
   "metadata": {},
   "source": [
    "##### Making an Argument Optional"
   ]
  },
  {
   "cell_type": "code",
   "execution_count": 77,
   "metadata": {},
   "outputs": [
    {
     "name": "stdout",
     "output_type": "stream",
     "text": [
      "Hello, you can call me Dylan Hurricane Katina\n"
     ]
    }
   ],
   "source": [
    "def nickname(first, last, nickname=''):\n",
    "    return f'Hello, you can call me {first} {nickname} {last}'\n",
    "\n",
    "print(nickname('Dylan', 'Katina', 'Hurricane'))"
   ]
  },
  {
   "cell_type": "markdown",
   "metadata": {},
   "source": [
    "# Creating a start, stop, step function"
   ]
  },
  {
   "cell_type": "code",
   "execution_count": 83,
   "metadata": {},
   "outputs": [
    {
     "name": "stdout",
     "output_type": "stream",
     "text": [
      "[5, 7, 9]\n"
     ]
    }
   ],
   "source": [
    "def my_range(stop, start=0, step=1):\n",
    "    output = []\n",
    "    for num in range(start, stop, step):\n",
    "        output.append(num)\n",
    "    return(output)\n",
    "\n",
    "print(my_range(10, 5, 2))\n"
   ]
  },
  {
   "cell_type": "markdown",
   "metadata": {},
   "source": [
    "##### Returning Values"
   ]
  },
  {
   "cell_type": "code",
   "execution_count": 84,
   "metadata": {},
   "outputs": [
    {
     "name": "stdout",
     "output_type": "stream",
     "text": [
      "15\n"
     ]
    }
   ],
   "source": [
    "# see above\n",
    "\n",
    "def adding(x, y):\n",
    "    return x + y\n",
    "\n",
    "total = adding(5, 10)\n",
    "\n",
    "print(total)"
   ]
  },
  {
   "attachments": {},
   "cell_type": "markdown",
   "metadata": {},
   "source": [
    "##### *args/**kwargs (A.K.A. KeyWord Arguments)##### *args"
   ]
  },
  {
   "cell_type": "code",
   "execution_count": 92,
   "metadata": {},
   "outputs": [
    {
     "name": "stdout",
     "output_type": "stream",
     "text": [
      "This class is taught by Christian and Dylan\n",
      "------ Students ------\n",
      "Anthony\n",
      "Kevin\n",
      "Peace\n",
      "Nicole\n",
      "Sean L\n",
      "Ash\n",
      "Hi my name is Christian this is my daily routine\n",
      "{'crack_of_dawn': 'wakes up', 'morning': '10 mile run', 'midmorning': 'skips breakfast', 'midday': 'eat lunch', 'evening': 'eat dinner'}\n"
     ]
    }
   ],
   "source": [
    "# *args = unlimited amount of arguments, function stores as tuple\n",
    "# **kwargs = unlimited amount of keyword arguments, function stores as dictionary\n",
    "\n",
    "def thieves(ins1, ins2, *students):\n",
    "    print(f'This class is taught by {ins1} and {ins2}')\n",
    "\n",
    "    print('------ Students ------')\n",
    "\n",
    "    for student in students:\n",
    "        print(student)\n",
    "\n",
    "thieves('Christian', 'Dylan', 'Anthony', 'Kevin', 'Peace', 'Nicole', 'Sean L', 'Ash')\n",
    "\n",
    "\n",
    "def my_routine(person, **routine):\n",
    "    print(f'Hi my name is {person} this is my daily routine')\n",
    "    print(routine)\n",
    "\n",
    "my_routine('Christian',crack_of_dawn='wakes up', morning='10 mile run', midmorning='skips breakfast', midday='eat lunch', evening='eat dinner')"
   ]
  },
  {
   "attachments": {},
   "cell_type": "markdown",
   "metadata": {},
   "source": [
    "##### Docstring - Multi-line Comment"
   ]
  },
  {
   "cell_type": "code",
   "execution_count": 94,
   "metadata": {},
   "outputs": [
    {
     "name": "stdout",
     "output_type": "stream",
     "text": [
      "Hello my name is Dylan, nice to meet you\n",
      "Help on function say_hello in module __main__:\n",
      "\n",
      "say_hello(name)\n",
      "    This function takes in the name of a person\n",
      "    and it offers a warm greeting\n",
      "\n"
     ]
    }
   ],
   "source": [
    "# Allows you to write documentation for user-defined functions\n",
    "\n",
    "def say_hello(name):\n",
    "    '''\n",
    "        This function takes in the name of a person\n",
    "        and it offers a warm greeting\n",
    "    '''\n",
    "    return f'Hello my name is {name}, nice to meet you'\n",
    "\n",
    "print(say_hello(\"Dylan\"))\n",
    "\n",
    "help(say_hello)"
   ]
  },
  {
   "cell_type": "markdown",
   "metadata": {},
   "source": [
    "##### Using a User Function in a Loop"
   ]
  },
  {
   "cell_type": "code",
   "execution_count": 95,
   "metadata": {},
   "outputs": [
    {
     "name": "stdout",
     "output_type": "stream",
     "text": [
      "0\n",
      "1\n",
      "2\n",
      "3\n",
      "4\n",
      "5\n",
      "6\n",
      "7\n",
      "8\n",
      "9\n"
     ]
    }
   ],
   "source": [
    "def addone(num):\n",
    "    return(num + 1)\n",
    "\n",
    "i = 0\n",
    "while i < 10:\n",
    "    print(i)\n",
    "    i = addone(i)"
   ]
  },
  {
   "cell_type": "markdown",
   "metadata": {},
   "source": [
    "## Function Exercise <br>\n",
    "<p>Write a function that loops through a list of first_names and a list of last_names, combines the two and return a list of full_names</p>"
   ]
  },
  {
   "cell_type": "code",
   "execution_count": 107,
   "metadata": {},
   "outputs": [
    {
     "name": "stdout",
     "output_type": "stream",
     "text": [
      "['John Smith', 'Evan Smith', 'Jordan Williams', 'Max Bell']\n"
     ]
    }
   ],
   "source": [
    "first_name = ['John', 'Evan', 'Jordan', 'Max']\n",
    "last_name = ['Smith', 'Smith', 'Williams', 'Bell']\n",
    "\n",
    "# Output: ['John Smith', 'Evan Smith', 'Jordan Williams', 'Max Bell']\n",
    "def full_name(first, last):\n",
    "    \n",
    "    output = []\n",
    "    for index in range(len(first_name)):\n",
    "        output.append(f'{first[index]} {last[index]}')\n",
    "\n",
    "    return output\n",
    "\n",
    "print(full_name(first_name, last_name))\n",
    "\n"
   ]
  },
  {
   "attachments": {},
   "cell_type": "markdown",
   "metadata": {},
   "source": [
    "## Scope <br>\n",
    "<p>Scope refers to the ability to access variables, different types of scope include:<br>a) Global<br>b) Function (local)</p>"
   ]
  },
  {
   "cell_type": "code",
   "execution_count": 112,
   "metadata": {},
   "outputs": [
    {
     "name": "stdout",
     "output_type": "stream",
     "text": [
      "10\n",
      "2\n",
      "10\n"
     ]
    }
   ],
   "source": [
    "# Global\n",
    "\n",
    "number = 10 #global variable\n",
    "\n",
    "# Local\n",
    "\n",
    "def log_num():\n",
    "    number1 = 2\n",
    "    print(number1)\n",
    "    print(number)\n",
    "    return(2)\n",
    "\n",
    "print(number)\n",
    "\n",
    "log_num()\n",
    "random = \"nori3fekldw\""
   ]
  },
  {
   "cell_type": "markdown",
   "metadata": {},
   "source": [
    "# Exercises"
   ]
  },
  {
   "cell_type": "markdown",
   "metadata": {},
   "source": [
    "## Exercise 1 <br>\n",
    "<p>Given a list as a parameter,write a function that returns a list of numbers that are less than ten</b></i></p><br>\n",
    "<p> For example: Say your input parameter to the function is [1,11,14,5,8,9]...Your output should [1,5,8,9]</p>"
   ]
  },
  {
   "cell_type": "code",
   "execution_count": 123,
   "metadata": {},
   "outputs": [
    {
     "name": "stdout",
     "output_type": "stream",
     "text": [
      "[1, 5, 8, 9]\n",
      "[1, 5, 8, 9]\n",
      "[1, 5, 8, 9]\n"
     ]
    }
   ],
   "source": [
    "# Use the following list - [1,11,14,5,8,9]\n",
    "\n",
    "l_1 = [1,11,14,5,8,9]\n",
    "\n",
    "#------Original------\n",
    "def less(list):\n",
    "    solution = []\n",
    "    for num in list:\n",
    "        if num < 10:\n",
    "            solution.append(num)\n",
    "    return solution\n",
    "print(less([1,11,14,5,8,9]))\n",
    "\n",
    "#------2nd Solution------\n",
    "def less_than(list):\n",
    "    list_comp = [num for num in list if num < 10]\n",
    "    return list_comp\n",
    "print(less_than([1,11,14,5,8,9]))\n",
    "\n",
    "#------3rd Solution------\n",
    "def less_than_10(list):\n",
    "    output = []\n",
    "    for num in list:\n",
    "        if num > 10:\n",
    "            continue\n",
    "        else:\n",
    "            output.append(num)\n",
    "    return output\n",
    "print(less_than_10([1,11,14,5,8,9]))\n"
   ]
  },
  {
   "cell_type": "markdown",
   "metadata": {},
   "source": [
    "## Exercise 2 <br>\n",
    "<p>Write a function that takes in two lists and returns the two lists merged together and sorted<br>\n",
    "<b><i>Hint: You can use the .sort() method</i></b></p>"
   ]
  },
  {
   "cell_type": "code",
   "execution_count": 127,
   "metadata": {},
   "outputs": [
    {
     "name": "stdout",
     "output_type": "stream",
     "text": [
      "[1, 2, 3, 3, 4, 4, 5, 5, 6, 6, 7, 8, 10]\n",
      "[1, 2, 3, 3, 4, 4, 5, 5, 6, 6, 7, 8, 10]\n"
     ]
    }
   ],
   "source": [
    "l_1 = [1,2,3,4,5,6]\n",
    "l_2 = [3,4,5,6,7,8,10]\n",
    "\n",
    "#------Original------\n",
    "def sort_list(list1, list2):\n",
    "    solution = list1 + list2\n",
    "    solution.sort()\n",
    "    return solution\n",
    "print(sort_list([1,2,3,4,5,6], [3,4,5,6,7,8,10]))\n",
    "\n",
    "#------2nd Solution------\n",
    "def sorted_list(list1, list2):\n",
    "    for i in list2:\n",
    "        list1.append(i)\n",
    "    new_list = sorted(list1)\n",
    "    return new_list\n",
    "print(sorted_list([1,2,3,4,5,6], [3,4,5,6,7,8,10]))"
   ]
  }
 ],
 "metadata": {
  "kernelspec": {
   "display_name": "Python 3",
   "language": "python",
   "name": "python3"
  },
  "language_info": {
   "codemirror_mode": {
    "name": "ipython",
    "version": 3
   },
   "file_extension": ".py",
   "mimetype": "text/x-python",
   "name": "python",
   "nbconvert_exporter": "python",
   "pygments_lexer": "ipython3",
   "version": "3.11.2"
  },
  "vscode": {
   "interpreter": {
    "hash": "aa82987a71ca0339a52998cd22613b0c002bda8349fa32a0cb67ceec3936a2bf"
   }
  }
 },
 "nbformat": 4,
 "nbformat_minor": 2
}
